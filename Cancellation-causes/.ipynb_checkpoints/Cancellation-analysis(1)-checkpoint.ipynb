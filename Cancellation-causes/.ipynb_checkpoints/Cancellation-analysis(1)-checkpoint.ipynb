{
 "cells": [
  {
   "cell_type": "markdown",
   "metadata": {},
   "source": [
    "# Python Insights - Analyzing Data with Python\n",
    "\n",
    "### Case - Customer Cancellation\n",
    "\n",
    "You have been hired by a company with over 800,000 customers for a Data project. The company recently realized that of its total customer base, the majority are inactive customers, that is, those who have already canceled the service.\n",
    "\n",
    "In order to improve its results, the company wants to understand the main reasons for these cancellations and what are the most efficient actions to reduce this number."
   ]
  },
  {
   "cell_type": "markdown",
   "metadata": {},
   "source": [
    "## Importing libraries"
   ]
  },
  {
   "cell_type": "code",
   "execution_count": 2,
   "metadata": {},
   "outputs": [],
   "source": [
    "import pandas as pd\n",
    "import plotly.express as px"
   ]
  },
  {
   "cell_type": "markdown",
   "metadata": {},
   "source": [
    "## Loading the database and reading our data frame"
   ]
  },
  {
   "cell_type": "code",
   "execution_count": 5,
   "metadata": {},
   "outputs": [
    {
     "data": {
      "text/html": [
       "<div>\n",
       "<style scoped>\n",
       "    .dataframe tbody tr th:only-of-type {\n",
       "        vertical-align: middle;\n",
       "    }\n",
       "\n",
       "    .dataframe tbody tr th {\n",
       "        vertical-align: top;\n",
       "    }\n",
       "\n",
       "    .dataframe thead th {\n",
       "        text-align: right;\n",
       "    }\n",
       "</style>\n",
       "<table border=\"1\" class=\"dataframe\">\n",
       "  <thead>\n",
       "    <tr style=\"text-align: right;\">\n",
       "      <th></th>\n",
       "      <th>CustomerID</th>\n",
       "      <th>idade</th>\n",
       "      <th>sexo</th>\n",
       "      <th>tempo_como_cliente</th>\n",
       "      <th>frequencia_uso</th>\n",
       "      <th>ligacoes_callcenter</th>\n",
       "      <th>dias_atraso</th>\n",
       "      <th>assinatura</th>\n",
       "      <th>duracao_contrato</th>\n",
       "      <th>total_gasto</th>\n",
       "      <th>meses_ultima_interacao</th>\n",
       "      <th>cancelou</th>\n",
       "    </tr>\n",
       "  </thead>\n",
       "  <tbody>\n",
       "    <tr>\n",
       "      <th>0</th>\n",
       "      <td>2.0</td>\n",
       "      <td>30.0</td>\n",
       "      <td>Female</td>\n",
       "      <td>39.0</td>\n",
       "      <td>14.0</td>\n",
       "      <td>5.0</td>\n",
       "      <td>18.0</td>\n",
       "      <td>Standard</td>\n",
       "      <td>Annual</td>\n",
       "      <td>932.00</td>\n",
       "      <td>17.0</td>\n",
       "      <td>1.0</td>\n",
       "    </tr>\n",
       "    <tr>\n",
       "      <th>1</th>\n",
       "      <td>3.0</td>\n",
       "      <td>65.0</td>\n",
       "      <td>Female</td>\n",
       "      <td>49.0</td>\n",
       "      <td>1.0</td>\n",
       "      <td>10.0</td>\n",
       "      <td>8.0</td>\n",
       "      <td>Basic</td>\n",
       "      <td>Monthly</td>\n",
       "      <td>557.00</td>\n",
       "      <td>6.0</td>\n",
       "      <td>1.0</td>\n",
       "    </tr>\n",
       "    <tr>\n",
       "      <th>2</th>\n",
       "      <td>4.0</td>\n",
       "      <td>55.0</td>\n",
       "      <td>Female</td>\n",
       "      <td>14.0</td>\n",
       "      <td>4.0</td>\n",
       "      <td>6.0</td>\n",
       "      <td>18.0</td>\n",
       "      <td>Basic</td>\n",
       "      <td>Quarterly</td>\n",
       "      <td>185.00</td>\n",
       "      <td>3.0</td>\n",
       "      <td>1.0</td>\n",
       "    </tr>\n",
       "    <tr>\n",
       "      <th>3</th>\n",
       "      <td>5.0</td>\n",
       "      <td>58.0</td>\n",
       "      <td>Male</td>\n",
       "      <td>38.0</td>\n",
       "      <td>21.0</td>\n",
       "      <td>7.0</td>\n",
       "      <td>7.0</td>\n",
       "      <td>Standard</td>\n",
       "      <td>Monthly</td>\n",
       "      <td>396.00</td>\n",
       "      <td>29.0</td>\n",
       "      <td>1.0</td>\n",
       "    </tr>\n",
       "    <tr>\n",
       "      <th>4</th>\n",
       "      <td>6.0</td>\n",
       "      <td>23.0</td>\n",
       "      <td>Male</td>\n",
       "      <td>32.0</td>\n",
       "      <td>20.0</td>\n",
       "      <td>5.0</td>\n",
       "      <td>8.0</td>\n",
       "      <td>Basic</td>\n",
       "      <td>Monthly</td>\n",
       "      <td>617.00</td>\n",
       "      <td>20.0</td>\n",
       "      <td>1.0</td>\n",
       "    </tr>\n",
       "    <tr>\n",
       "      <th>...</th>\n",
       "      <td>...</td>\n",
       "      <td>...</td>\n",
       "      <td>...</td>\n",
       "      <td>...</td>\n",
       "      <td>...</td>\n",
       "      <td>...</td>\n",
       "      <td>...</td>\n",
       "      <td>...</td>\n",
       "      <td>...</td>\n",
       "      <td>...</td>\n",
       "      <td>...</td>\n",
       "      <td>...</td>\n",
       "    </tr>\n",
       "    <tr>\n",
       "      <th>881661</th>\n",
       "      <td>449995.0</td>\n",
       "      <td>42.0</td>\n",
       "      <td>Male</td>\n",
       "      <td>54.0</td>\n",
       "      <td>15.0</td>\n",
       "      <td>1.0</td>\n",
       "      <td>3.0</td>\n",
       "      <td>Premium</td>\n",
       "      <td>Annual</td>\n",
       "      <td>716.38</td>\n",
       "      <td>8.0</td>\n",
       "      <td>0.0</td>\n",
       "    </tr>\n",
       "    <tr>\n",
       "      <th>881662</th>\n",
       "      <td>449996.0</td>\n",
       "      <td>25.0</td>\n",
       "      <td>Female</td>\n",
       "      <td>8.0</td>\n",
       "      <td>13.0</td>\n",
       "      <td>1.0</td>\n",
       "      <td>20.0</td>\n",
       "      <td>Premium</td>\n",
       "      <td>Annual</td>\n",
       "      <td>745.38</td>\n",
       "      <td>2.0</td>\n",
       "      <td>0.0</td>\n",
       "    </tr>\n",
       "    <tr>\n",
       "      <th>881663</th>\n",
       "      <td>449997.0</td>\n",
       "      <td>26.0</td>\n",
       "      <td>Male</td>\n",
       "      <td>35.0</td>\n",
       "      <td>27.0</td>\n",
       "      <td>1.0</td>\n",
       "      <td>5.0</td>\n",
       "      <td>Standard</td>\n",
       "      <td>Quarterly</td>\n",
       "      <td>977.31</td>\n",
       "      <td>9.0</td>\n",
       "      <td>0.0</td>\n",
       "    </tr>\n",
       "    <tr>\n",
       "      <th>881664</th>\n",
       "      <td>449998.0</td>\n",
       "      <td>28.0</td>\n",
       "      <td>Male</td>\n",
       "      <td>55.0</td>\n",
       "      <td>14.0</td>\n",
       "      <td>2.0</td>\n",
       "      <td>0.0</td>\n",
       "      <td>Standard</td>\n",
       "      <td>Quarterly</td>\n",
       "      <td>602.55</td>\n",
       "      <td>2.0</td>\n",
       "      <td>0.0</td>\n",
       "    </tr>\n",
       "    <tr>\n",
       "      <th>881665</th>\n",
       "      <td>449999.0</td>\n",
       "      <td>31.0</td>\n",
       "      <td>Male</td>\n",
       "      <td>48.0</td>\n",
       "      <td>20.0</td>\n",
       "      <td>1.0</td>\n",
       "      <td>14.0</td>\n",
       "      <td>Premium</td>\n",
       "      <td>Quarterly</td>\n",
       "      <td>567.77</td>\n",
       "      <td>21.0</td>\n",
       "      <td>0.0</td>\n",
       "    </tr>\n",
       "  </tbody>\n",
       "</table>\n",
       "<p>881666 rows × 12 columns</p>\n",
       "</div>"
      ],
      "text/plain": [
       "        CustomerID  idade    sexo  tempo_como_cliente  frequencia_uso  \\\n",
       "0              2.0   30.0  Female                39.0            14.0   \n",
       "1              3.0   65.0  Female                49.0             1.0   \n",
       "2              4.0   55.0  Female                14.0             4.0   \n",
       "3              5.0   58.0    Male                38.0            21.0   \n",
       "4              6.0   23.0    Male                32.0            20.0   \n",
       "...            ...    ...     ...                 ...             ...   \n",
       "881661    449995.0   42.0    Male                54.0            15.0   \n",
       "881662    449996.0   25.0  Female                 8.0            13.0   \n",
       "881663    449997.0   26.0    Male                35.0            27.0   \n",
       "881664    449998.0   28.0    Male                55.0            14.0   \n",
       "881665    449999.0   31.0    Male                48.0            20.0   \n",
       "\n",
       "        ligacoes_callcenter  dias_atraso assinatura duracao_contrato  \\\n",
       "0                       5.0         18.0   Standard           Annual   \n",
       "1                      10.0          8.0      Basic          Monthly   \n",
       "2                       6.0         18.0      Basic        Quarterly   \n",
       "3                       7.0          7.0   Standard          Monthly   \n",
       "4                       5.0          8.0      Basic          Monthly   \n",
       "...                     ...          ...        ...              ...   \n",
       "881661                  1.0          3.0    Premium           Annual   \n",
       "881662                  1.0         20.0    Premium           Annual   \n",
       "881663                  1.0          5.0   Standard        Quarterly   \n",
       "881664                  2.0          0.0   Standard        Quarterly   \n",
       "881665                  1.0         14.0    Premium        Quarterly   \n",
       "\n",
       "        total_gasto  meses_ultima_interacao  cancelou  \n",
       "0            932.00                    17.0       1.0  \n",
       "1            557.00                     6.0       1.0  \n",
       "2            185.00                     3.0       1.0  \n",
       "3            396.00                    29.0       1.0  \n",
       "4            617.00                    20.0       1.0  \n",
       "...             ...                     ...       ...  \n",
       "881661       716.38                     8.0       0.0  \n",
       "881662       745.38                     2.0       0.0  \n",
       "881663       977.31                     9.0       0.0  \n",
       "881664       602.55                     2.0       0.0  \n",
       "881665       567.77                    21.0       0.0  \n",
       "\n",
       "[881666 rows x 12 columns]"
      ]
     },
     "execution_count": 5,
     "metadata": {},
     "output_type": "execute_result"
    }
   ],
   "source": [
    "df = pd.read_csv('cancelamentos.csv')\n",
    "df"
   ]
  },
  {
   "cell_type": "markdown",
   "metadata": {},
   "source": [
    "## Cleaning and filtering data"
   ]
  },
  {
   "cell_type": "markdown",
   "metadata": {},
   "source": [
    "### Looking for null values\n",
    "Let's see if we can find any inconsistency just with the info method."
   ]
  },
  {
   "cell_type": "code",
   "execution_count": 9,
   "metadata": {},
   "outputs": [
    {
     "name": "stdout",
     "output_type": "stream",
     "text": [
      "<class 'pandas.core.frame.DataFrame'>\n",
      "RangeIndex: 881666 entries, 0 to 881665\n",
      "Data columns (total 12 columns):\n",
      " #   Column                  Non-Null Count   Dtype  \n",
      "---  ------                  --------------   -----  \n",
      " 0   CustomerID              881664 non-null  float64\n",
      " 1   idade                   881664 non-null  float64\n",
      " 2   sexo                    881664 non-null  object \n",
      " 3   tempo_como_cliente      881663 non-null  float64\n",
      " 4   frequencia_uso          881663 non-null  float64\n",
      " 5   ligacoes_callcenter     881664 non-null  float64\n",
      " 6   dias_atraso             881664 non-null  float64\n",
      " 7   assinatura              881661 non-null  object \n",
      " 8   duracao_contrato        881663 non-null  object \n",
      " 9   total_gasto             881664 non-null  float64\n",
      " 10  meses_ultima_interacao  881664 non-null  float64\n",
      " 11  cancelou                881664 non-null  float64\n",
      "dtypes: float64(9), object(3)\n",
      "memory usage: 80.7+ MB\n"
     ]
    }
   ],
   "source": [
    "df.info()"
   ]
  },
  {
   "cell_type": "markdown",
   "metadata": {},
   "source": [
    "\n",
    "Well, it looks like there are missing values on some columns. Let's look closer."
   ]
  },
  {
   "cell_type": "code",
   "execution_count": 12,
   "metadata": {},
   "outputs": [
    {
     "data": {
      "text/html": [
       "<div>\n",
       "<style scoped>\n",
       "    .dataframe tbody tr th:only-of-type {\n",
       "        vertical-align: middle;\n",
       "    }\n",
       "\n",
       "    .dataframe tbody tr th {\n",
       "        vertical-align: top;\n",
       "    }\n",
       "\n",
       "    .dataframe thead th {\n",
       "        text-align: right;\n",
       "    }\n",
       "</style>\n",
       "<table border=\"1\" class=\"dataframe\">\n",
       "  <thead>\n",
       "    <tr style=\"text-align: right;\">\n",
       "      <th></th>\n",
       "      <th>CustomerID</th>\n",
       "      <th>idade</th>\n",
       "      <th>sexo</th>\n",
       "      <th>tempo_como_cliente</th>\n",
       "      <th>frequencia_uso</th>\n",
       "      <th>ligacoes_callcenter</th>\n",
       "      <th>dias_atraso</th>\n",
       "      <th>assinatura</th>\n",
       "      <th>duracao_contrato</th>\n",
       "      <th>total_gasto</th>\n",
       "      <th>meses_ultima_interacao</th>\n",
       "      <th>cancelou</th>\n",
       "    </tr>\n",
       "  </thead>\n",
       "  <tbody>\n",
       "    <tr>\n",
       "      <th>11</th>\n",
       "      <td>14.0</td>\n",
       "      <td>52.0</td>\n",
       "      <td>Female</td>\n",
       "      <td>21.0</td>\n",
       "      <td>6.0</td>\n",
       "      <td>3.0</td>\n",
       "      <td>26.0</td>\n",
       "      <td>Premium</td>\n",
       "      <td>NaN</td>\n",
       "      <td>830.0</td>\n",
       "      <td>19.0</td>\n",
       "      <td>1.0</td>\n",
       "    </tr>\n",
       "    <tr>\n",
       "      <th>14</th>\n",
       "      <td>17.0</td>\n",
       "      <td>24.0</td>\n",
       "      <td>Male</td>\n",
       "      <td>4.0</td>\n",
       "      <td>9.0</td>\n",
       "      <td>4.0</td>\n",
       "      <td>22.0</td>\n",
       "      <td>NaN</td>\n",
       "      <td>Quarterly</td>\n",
       "      <td>204.0</td>\n",
       "      <td>4.0</td>\n",
       "      <td>1.0</td>\n",
       "    </tr>\n",
       "    <tr>\n",
       "      <th>17</th>\n",
       "      <td>20.0</td>\n",
       "      <td>47.0</td>\n",
       "      <td>Male</td>\n",
       "      <td>41.0</td>\n",
       "      <td>NaN</td>\n",
       "      <td>1.0</td>\n",
       "      <td>5.0</td>\n",
       "      <td>NaN</td>\n",
       "      <td>Annual</td>\n",
       "      <td>151.0</td>\n",
       "      <td>19.0</td>\n",
       "      <td>1.0</td>\n",
       "    </tr>\n",
       "    <tr>\n",
       "      <th>18</th>\n",
       "      <td>21.0</td>\n",
       "      <td>24.0</td>\n",
       "      <td>Male</td>\n",
       "      <td>44.0</td>\n",
       "      <td>13.0</td>\n",
       "      <td>5.0</td>\n",
       "      <td>4.0</td>\n",
       "      <td>NaN</td>\n",
       "      <td>Monthly</td>\n",
       "      <td>669.0</td>\n",
       "      <td>13.0</td>\n",
       "      <td>1.0</td>\n",
       "    </tr>\n",
       "    <tr>\n",
       "      <th>23</th>\n",
       "      <td>26.0</td>\n",
       "      <td>27.0</td>\n",
       "      <td>Female</td>\n",
       "      <td>NaN</td>\n",
       "      <td>8.0</td>\n",
       "      <td>7.0</td>\n",
       "      <td>3.0</td>\n",
       "      <td>Standard</td>\n",
       "      <td>Monthly</td>\n",
       "      <td>434.0</td>\n",
       "      <td>19.0</td>\n",
       "      <td>1.0</td>\n",
       "    </tr>\n",
       "    <tr>\n",
       "      <th>199295</th>\n",
       "      <td>NaN</td>\n",
       "      <td>NaN</td>\n",
       "      <td>NaN</td>\n",
       "      <td>NaN</td>\n",
       "      <td>NaN</td>\n",
       "      <td>NaN</td>\n",
       "      <td>NaN</td>\n",
       "      <td>NaN</td>\n",
       "      <td>NaN</td>\n",
       "      <td>NaN</td>\n",
       "      <td>NaN</td>\n",
       "      <td>NaN</td>\n",
       "    </tr>\n",
       "    <tr>\n",
       "      <th>640128</th>\n",
       "      <td>NaN</td>\n",
       "      <td>NaN</td>\n",
       "      <td>NaN</td>\n",
       "      <td>NaN</td>\n",
       "      <td>NaN</td>\n",
       "      <td>NaN</td>\n",
       "      <td>NaN</td>\n",
       "      <td>NaN</td>\n",
       "      <td>NaN</td>\n",
       "      <td>NaN</td>\n",
       "      <td>NaN</td>\n",
       "      <td>NaN</td>\n",
       "    </tr>\n",
       "  </tbody>\n",
       "</table>\n",
       "</div>"
      ],
      "text/plain": [
       "        CustomerID  idade    sexo  tempo_como_cliente  frequencia_uso  \\\n",
       "11            14.0   52.0  Female                21.0             6.0   \n",
       "14            17.0   24.0    Male                 4.0             9.0   \n",
       "17            20.0   47.0    Male                41.0             NaN   \n",
       "18            21.0   24.0    Male                44.0            13.0   \n",
       "23            26.0   27.0  Female                 NaN             8.0   \n",
       "199295         NaN    NaN     NaN                 NaN             NaN   \n",
       "640128         NaN    NaN     NaN                 NaN             NaN   \n",
       "\n",
       "        ligacoes_callcenter  dias_atraso assinatura duracao_contrato  \\\n",
       "11                      3.0         26.0    Premium              NaN   \n",
       "14                      4.0         22.0        NaN        Quarterly   \n",
       "17                      1.0          5.0        NaN           Annual   \n",
       "18                      5.0          4.0        NaN          Monthly   \n",
       "23                      7.0          3.0   Standard          Monthly   \n",
       "199295                  NaN          NaN        NaN              NaN   \n",
       "640128                  NaN          NaN        NaN              NaN   \n",
       "\n",
       "        total_gasto  meses_ultima_interacao  cancelou  \n",
       "11            830.0                    19.0       1.0  \n",
       "14            204.0                     4.0       1.0  \n",
       "17            151.0                    19.0       1.0  \n",
       "18            669.0                    13.0       1.0  \n",
       "23            434.0                    19.0       1.0  \n",
       "199295          NaN                     NaN       NaN  \n",
       "640128          NaN                     NaN       NaN  "
      ]
     },
     "execution_count": 12,
     "metadata": {},
     "output_type": "execute_result"
    }
   ],
   "source": [
    "null_df = df[df.isnull().any(axis=1)]\n",
    "null_df"
   ]
  },
  {
   "cell_type": "markdown",
   "metadata": {},
   "source": [
    "So, we found some missing information on seven rows, from a total of 881666 rows.\n",
    "It won't hurt if we discard these. Let's clean this little mess!"
   ]
  },
  {
   "cell_type": "markdown",
   "metadata": {},
   "source": [
    "### Getting rid of null values"
   ]
  },
  {
   "cell_type": "code",
   "execution_count": 16,
   "metadata": {},
   "outputs": [],
   "source": [
    "df = df.dropna()"
   ]
  },
  {
   "cell_type": "markdown",
   "metadata": {},
   "source": [
    "### Filtering by need"
   ]
  },
  {
   "cell_type": "markdown",
   "metadata": {},
   "source": [
    "Now that the bad info has gone, we can proceed with our analysis.\n",
    "But before we do it, as we are cleaning data, let's also discard another useless information, such as columns that certainly won't help with our problem.\n",
    "Some columns may or may not have a correlation with our problem, we don't know yet. But the ID column has no relation with the cancellation. \n",
    "Dropping it will make the data clearer to see and lighter to proccess."
   ]
  },
  {
   "cell_type": "code",
   "execution_count": 20,
   "metadata": {},
   "outputs": [],
   "source": [
    "df = df.drop(columns=['CustomerID'])"
   ]
  },
  {
   "cell_type": "code",
   "execution_count": 22,
   "metadata": {},
   "outputs": [
    {
     "data": {
      "text/html": [
       "<div>\n",
       "<style scoped>\n",
       "    .dataframe tbody tr th:only-of-type {\n",
       "        vertical-align: middle;\n",
       "    }\n",
       "\n",
       "    .dataframe tbody tr th {\n",
       "        vertical-align: top;\n",
       "    }\n",
       "\n",
       "    .dataframe thead th {\n",
       "        text-align: right;\n",
       "    }\n",
       "</style>\n",
       "<table border=\"1\" class=\"dataframe\">\n",
       "  <thead>\n",
       "    <tr style=\"text-align: right;\">\n",
       "      <th></th>\n",
       "      <th>idade</th>\n",
       "      <th>sexo</th>\n",
       "      <th>tempo_como_cliente</th>\n",
       "      <th>frequencia_uso</th>\n",
       "      <th>ligacoes_callcenter</th>\n",
       "      <th>dias_atraso</th>\n",
       "      <th>assinatura</th>\n",
       "      <th>duracao_contrato</th>\n",
       "      <th>total_gasto</th>\n",
       "      <th>meses_ultima_interacao</th>\n",
       "      <th>cancelou</th>\n",
       "    </tr>\n",
       "  </thead>\n",
       "  <tbody>\n",
       "    <tr>\n",
       "      <th>0</th>\n",
       "      <td>30.0</td>\n",
       "      <td>Female</td>\n",
       "      <td>39.0</td>\n",
       "      <td>14.0</td>\n",
       "      <td>5.0</td>\n",
       "      <td>18.0</td>\n",
       "      <td>Standard</td>\n",
       "      <td>Annual</td>\n",
       "      <td>932.00</td>\n",
       "      <td>17.0</td>\n",
       "      <td>1.0</td>\n",
       "    </tr>\n",
       "    <tr>\n",
       "      <th>1</th>\n",
       "      <td>65.0</td>\n",
       "      <td>Female</td>\n",
       "      <td>49.0</td>\n",
       "      <td>1.0</td>\n",
       "      <td>10.0</td>\n",
       "      <td>8.0</td>\n",
       "      <td>Basic</td>\n",
       "      <td>Monthly</td>\n",
       "      <td>557.00</td>\n",
       "      <td>6.0</td>\n",
       "      <td>1.0</td>\n",
       "    </tr>\n",
       "    <tr>\n",
       "      <th>2</th>\n",
       "      <td>55.0</td>\n",
       "      <td>Female</td>\n",
       "      <td>14.0</td>\n",
       "      <td>4.0</td>\n",
       "      <td>6.0</td>\n",
       "      <td>18.0</td>\n",
       "      <td>Basic</td>\n",
       "      <td>Quarterly</td>\n",
       "      <td>185.00</td>\n",
       "      <td>3.0</td>\n",
       "      <td>1.0</td>\n",
       "    </tr>\n",
       "    <tr>\n",
       "      <th>3</th>\n",
       "      <td>58.0</td>\n",
       "      <td>Male</td>\n",
       "      <td>38.0</td>\n",
       "      <td>21.0</td>\n",
       "      <td>7.0</td>\n",
       "      <td>7.0</td>\n",
       "      <td>Standard</td>\n",
       "      <td>Monthly</td>\n",
       "      <td>396.00</td>\n",
       "      <td>29.0</td>\n",
       "      <td>1.0</td>\n",
       "    </tr>\n",
       "    <tr>\n",
       "      <th>4</th>\n",
       "      <td>23.0</td>\n",
       "      <td>Male</td>\n",
       "      <td>32.0</td>\n",
       "      <td>20.0</td>\n",
       "      <td>5.0</td>\n",
       "      <td>8.0</td>\n",
       "      <td>Basic</td>\n",
       "      <td>Monthly</td>\n",
       "      <td>617.00</td>\n",
       "      <td>20.0</td>\n",
       "      <td>1.0</td>\n",
       "    </tr>\n",
       "    <tr>\n",
       "      <th>...</th>\n",
       "      <td>...</td>\n",
       "      <td>...</td>\n",
       "      <td>...</td>\n",
       "      <td>...</td>\n",
       "      <td>...</td>\n",
       "      <td>...</td>\n",
       "      <td>...</td>\n",
       "      <td>...</td>\n",
       "      <td>...</td>\n",
       "      <td>...</td>\n",
       "      <td>...</td>\n",
       "    </tr>\n",
       "    <tr>\n",
       "      <th>881661</th>\n",
       "      <td>42.0</td>\n",
       "      <td>Male</td>\n",
       "      <td>54.0</td>\n",
       "      <td>15.0</td>\n",
       "      <td>1.0</td>\n",
       "      <td>3.0</td>\n",
       "      <td>Premium</td>\n",
       "      <td>Annual</td>\n",
       "      <td>716.38</td>\n",
       "      <td>8.0</td>\n",
       "      <td>0.0</td>\n",
       "    </tr>\n",
       "    <tr>\n",
       "      <th>881662</th>\n",
       "      <td>25.0</td>\n",
       "      <td>Female</td>\n",
       "      <td>8.0</td>\n",
       "      <td>13.0</td>\n",
       "      <td>1.0</td>\n",
       "      <td>20.0</td>\n",
       "      <td>Premium</td>\n",
       "      <td>Annual</td>\n",
       "      <td>745.38</td>\n",
       "      <td>2.0</td>\n",
       "      <td>0.0</td>\n",
       "    </tr>\n",
       "    <tr>\n",
       "      <th>881663</th>\n",
       "      <td>26.0</td>\n",
       "      <td>Male</td>\n",
       "      <td>35.0</td>\n",
       "      <td>27.0</td>\n",
       "      <td>1.0</td>\n",
       "      <td>5.0</td>\n",
       "      <td>Standard</td>\n",
       "      <td>Quarterly</td>\n",
       "      <td>977.31</td>\n",
       "      <td>9.0</td>\n",
       "      <td>0.0</td>\n",
       "    </tr>\n",
       "    <tr>\n",
       "      <th>881664</th>\n",
       "      <td>28.0</td>\n",
       "      <td>Male</td>\n",
       "      <td>55.0</td>\n",
       "      <td>14.0</td>\n",
       "      <td>2.0</td>\n",
       "      <td>0.0</td>\n",
       "      <td>Standard</td>\n",
       "      <td>Quarterly</td>\n",
       "      <td>602.55</td>\n",
       "      <td>2.0</td>\n",
       "      <td>0.0</td>\n",
       "    </tr>\n",
       "    <tr>\n",
       "      <th>881665</th>\n",
       "      <td>31.0</td>\n",
       "      <td>Male</td>\n",
       "      <td>48.0</td>\n",
       "      <td>20.0</td>\n",
       "      <td>1.0</td>\n",
       "      <td>14.0</td>\n",
       "      <td>Premium</td>\n",
       "      <td>Quarterly</td>\n",
       "      <td>567.77</td>\n",
       "      <td>21.0</td>\n",
       "      <td>0.0</td>\n",
       "    </tr>\n",
       "  </tbody>\n",
       "</table>\n",
       "<p>881659 rows × 11 columns</p>\n",
       "</div>"
      ],
      "text/plain": [
       "        idade    sexo  tempo_como_cliente  frequencia_uso  \\\n",
       "0        30.0  Female                39.0            14.0   \n",
       "1        65.0  Female                49.0             1.0   \n",
       "2        55.0  Female                14.0             4.0   \n",
       "3        58.0    Male                38.0            21.0   \n",
       "4        23.0    Male                32.0            20.0   \n",
       "...       ...     ...                 ...             ...   \n",
       "881661   42.0    Male                54.0            15.0   \n",
       "881662   25.0  Female                 8.0            13.0   \n",
       "881663   26.0    Male                35.0            27.0   \n",
       "881664   28.0    Male                55.0            14.0   \n",
       "881665   31.0    Male                48.0            20.0   \n",
       "\n",
       "        ligacoes_callcenter  dias_atraso assinatura duracao_contrato  \\\n",
       "0                       5.0         18.0   Standard           Annual   \n",
       "1                      10.0          8.0      Basic          Monthly   \n",
       "2                       6.0         18.0      Basic        Quarterly   \n",
       "3                       7.0          7.0   Standard          Monthly   \n",
       "4                       5.0          8.0      Basic          Monthly   \n",
       "...                     ...          ...        ...              ...   \n",
       "881661                  1.0          3.0    Premium           Annual   \n",
       "881662                  1.0         20.0    Premium           Annual   \n",
       "881663                  1.0          5.0   Standard        Quarterly   \n",
       "881664                  2.0          0.0   Standard        Quarterly   \n",
       "881665                  1.0         14.0    Premium        Quarterly   \n",
       "\n",
       "        total_gasto  meses_ultima_interacao  cancelou  \n",
       "0            932.00                    17.0       1.0  \n",
       "1            557.00                     6.0       1.0  \n",
       "2            185.00                     3.0       1.0  \n",
       "3            396.00                    29.0       1.0  \n",
       "4            617.00                    20.0       1.0  \n",
       "...             ...                     ...       ...  \n",
       "881661       716.38                     8.0       0.0  \n",
       "881662       745.38                     2.0       0.0  \n",
       "881663       977.31                     9.0       0.0  \n",
       "881664       602.55                     2.0       0.0  \n",
       "881665       567.77                    21.0       0.0  \n",
       "\n",
       "[881659 rows x 11 columns]"
      ]
     },
     "execution_count": 22,
     "metadata": {},
     "output_type": "execute_result"
    }
   ],
   "source": [
    "df"
   ]
  },
  {
   "cell_type": "markdown",
   "metadata": {},
   "source": [
    "## Time to explore the data!"
   ]
  },
  {
   "cell_type": "markdown",
   "metadata": {},
   "source": [
    "### First things first, we were told that the cancellations rate has increased. But how much? Is the situation even that bad? Time to find it out"
   ]
  },
  {
   "cell_type": "code",
   "execution_count": 24,
   "metadata": {},
   "outputs": [
    {
     "data": {
      "text/plain": [
       "cancelou\n",
       "1.0    499993\n",
       "0.0    381666\n",
       "Name: count, dtype: int64"
      ]
     },
     "metadata": {},
     "output_type": "display_data"
    }
   ],
   "source": [
    "count = df['cancelou'].value_counts()\n",
    "display(count)\n",
    "\n",
    "cancel_fig = px.pie(df, names='cancelou', title='Cancellation distribution')\n",
    "cancel_fig.show()"
   ]
  },
  {
   "cell_type": "markdown",
   "metadata": {},
   "source": [
    "![Gráfico estático](plots/initial_rate.png)"
   ]
  },
  {
   "cell_type": "markdown",
   "metadata": {},
   "source": [
    "499993 people have canceled the services, it's more than half of our client base! The situation isn't that bad, it is even worse!\n",
    "But, let's give it a thought. There must be something really wrong happening on our data that justify the high cancellation rate. It can't be just coincidance... Can it?"
   ]
  },
  {
   "cell_type": "markdown",
   "metadata": {},
   "source": [
    "### Time to compare every variable to the cancellation and see if we can find any correlation"
   ]
  },
  {
   "cell_type": "code",
   "execution_count": 31,
   "metadata": {},
   "outputs": [],
   "source": [
    "for column in df.columns:\n",
    "    fig = px.histogram(df, x=column, color='cancelou', text_auto=True)\n",
    "    fig.show()"
   ]
  },
  {
   "cell_type": "markdown",
   "metadata": {},
   "source": [
    "![Chart](plots/age.png)\n",
    "![Chart](plots/gender.png)\n",
    "![Chart](plots/time_as_customer.png)\n",
    "![Chart](plots/callcenter.png)\n",
    "![Chart](plots/frequency.png)\n",
    "![Chart](plots/late.png)\n",
    "![Chart](plots/type.png)\n",
    "![Chart](plots/plan.png)\n",
    "![Chart](plots/total_spent.png)\n",
    "![Chart](plots/last.png)\n"
   ]
  },
  {
   "cell_type": "markdown",
   "metadata": {},
   "source": [
    "At first glance, there are three variables that lead to discrepant results: the amount of calls from callcenter, the planning and the days late payment. Lets look closer at each one."
   ]
  },
  {
   "cell_type": "markdown",
   "metadata": {},
   "source": [
    "### First, the callcenter\n",
    "It seems that once a customer receive more than five calls, he's very likely to want to cancel the service."
   ]
  },
  {
   "cell_type": "code",
   "execution_count": 35,
   "metadata": {
    "scrolled": true
   },
   "outputs": [],
   "source": [
    "fig = px.histogram(df, x='ligacoes_callcenter', color='cancelou', text_auto=True)\n",
    "fig.show()"
   ]
  },
  {
   "cell_type": "markdown",
   "metadata": {},
   "source": [
    "![Callcenter chart](plots/callcenter.png)"
   ]
  },
  {
   "cell_type": "markdown",
   "metadata": {},
   "source": [
    "Let's make an imaginary exercise and see what the results would be if the callcenter didn't exceeed the amount of five calls per customer. Then they wouldn't be too upset to leave us, right?"
   ]
  },
  {
   "cell_type": "code",
   "execution_count": 38,
   "metadata": {},
   "outputs": [
    {
     "data": {
      "text/plain": [
       "cancelou\n",
       "0.0    379032\n",
       "1.0    215767\n",
       "Name: count, dtype: int64"
      ]
     },
     "metadata": {},
     "output_type": "display_data"
    }
   ],
   "source": [
    "#Let's assume the callcenter wont' disturb customers anymore\n",
    "new_df = df[df['ligacoes_callcenter'] < 5]\n",
    "\n",
    "#Retry the counting\n",
    "display(new_df['cancelou'].value_counts())\n",
    "cancel_fig = px.pie(new_df, names='cancelou', title='Cancellation distribution')\n",
    "cancel_fig.show()"
   ]
  },
  {
   "cell_type": "markdown",
   "metadata": {},
   "source": [
    "![Rate without callcenter calls](plots/callcenter_rate.png)"
   ]
  },
  {
   "cell_type": "markdown",
   "metadata": {},
   "source": [
    "Wow, just by reducing the amount of inconvenient calls, we could almost reduce 10% of the cancellations. Who would have thought?\n",
    "But our work is not already finished. There are two more variables to fix."
   ]
  },
  {
   "cell_type": "markdown",
   "metadata": {},
   "source": [
    "### Plan and late payment"
   ]
  },
  {
   "cell_type": "code",
   "execution_count": 41,
   "metadata": {},
   "outputs": [],
   "source": [
    "fig1 = px.histogram(df, x='duracao_contrato', color='cancelou', title='Cancellation x Planning', text_auto=True)\n",
    "fig1.show()\n",
    "fig2 = px.histogram(df, x='dias_atraso', color='cancelou', title='Cancellation x Payment late', text_auto=True)\n",
    "fig2.show()"
   ]
  },
  {
   "cell_type": "markdown",
   "metadata": {},
   "source": [
    "![Plan chart](plots/plan.png)\n",
    "![Late payment chart](plots/late.png)"
   ]
  },
  {
   "cell_type": "markdown",
   "metadata": {},
   "source": [
    "Once again, we can find that in the first case, the monthly plan has 100% of cancellation. None of our customers that paid monthly stayed with us. If we could make people migrate their plan, it would be 174k cancellations converted, a little less than 40% of our initial 500k cancellation.\n",
    "In the second case, people that takes more than twenty days to pay are high likely to cancel our services."
   ]
  },
  {
   "cell_type": "code",
   "execution_count": 44,
   "metadata": {},
   "outputs": [],
   "source": [
    "# Excluding the monthly plan\n",
    "new_df = new_df[new_df['duracao_contrato'] != 'Monthly']\n",
    "\n",
    "# Excluding payments with more than 20 days\n",
    "new_df = new_df[new_df['dias_atraso'] <= 20]"
   ]
  },
  {
   "cell_type": "markdown",
   "metadata": {},
   "source": [
    "### Other variables"
   ]
  },
  {
   "cell_type": "markdown",
   "metadata": {},
   "source": [
    "There are other variables that interfere in the results, such as gender and age.\n",
    "66% of women are likely to cancel, while for men it's about 50%. People past 50 years old are also certainly to cancel. But in these cases, there are nothing to do, as we're talking more about personal and subjective factors and less about the quality of our services. We can't simply not attend people older than 50 or women. Let's stick with the variables we gathered and call it a day."
   ]
  },
  {
   "cell_type": "markdown",
   "metadata": {},
   "source": [
    "## Testing the differences "
   ]
  },
  {
   "cell_type": "markdown",
   "metadata": {},
   "source": [
    "As stated before, we started with 499993 cancellations (or 56.8%). Let's see how much those management strategies would affect the current situation."
   ]
  },
  {
   "cell_type": "code",
   "execution_count": 49,
   "metadata": {},
   "outputs": [
    {
     "data": {
      "text/plain": [
       "cancelou\n",
       "0.0    379032\n",
       "1.0     85447\n",
       "Name: count, dtype: int64"
      ]
     },
     "metadata": {},
     "output_type": "display_data"
    }
   ],
   "source": [
    "display(new_df['cancelou'].value_counts())\n",
    "\n",
    "cancel_fig = px.pie(new_df, names='cancelou', title='Cancellation distribution')\n",
    "cancel_fig.show()"
   ]
  },
  {
   "cell_type": "markdown",
   "metadata": {},
   "source": [
    "![Final rate](plots/final_rate.png)"
   ]
  },
  {
   "cell_type": "markdown",
   "metadata": {},
   "source": [
    " Amazing! We brought the cancellation rate from 56.8% to astonishing 18.4%, from 499993 to 85447. Just by changing three variables, we could reduce 67% of the cancellations! Of course, we'll never reach the 0% mark, but compared to before, the changes make the situation now looks like night and day!"
   ]
  }
 ],
 "metadata": {
  "kernelspec": {
   "display_name": "Python 3 (ipykernel)",
   "language": "python",
   "name": "python3"
  },
  "language_info": {
   "codemirror_mode": {
    "name": "ipython",
    "version": 3
   },
   "file_extension": ".py",
   "mimetype": "text/x-python",
   "name": "python",
   "nbconvert_exporter": "python",
   "pygments_lexer": "ipython3",
   "version": "3.12.4"
  }
 },
 "nbformat": 4,
 "nbformat_minor": 4
}
